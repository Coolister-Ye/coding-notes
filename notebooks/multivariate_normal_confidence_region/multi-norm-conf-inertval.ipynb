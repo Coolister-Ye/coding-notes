{
 "cells": [
  {
   "cell_type": "code",
   "execution_count": 4,
   "id": "b843be77-c55a-4f9b-b2e3-a1474a742cb2",
   "metadata": {},
   "outputs": [],
   "source": [
    "import numpy as np\n",
    "import pandas as pd\n",
    "from numpy.linalg import inv, det, eig\n",
    "import matplotlib.pyplot as plt\n",
    "from matplotlib.patches import Ellipse\n",
    "import matplotlib.transforms as transforms\n",
    "from scipy.stats import chi2, multivariate_normal"
   ]
  },
  {
   "cell_type": "code",
   "execution_count": 2,
   "id": "85df3146-bbd5-438e-bb8d-ff0b16f4c808",
   "metadata": {},
   "outputs": [],
   "source": [
    "def getGussianParam(X):\n",
    "    \"\"\"\n",
    "    计算正态分布参数\n",
    "    \"\"\"\n",
    "    u = np.mean(X, axis=0)\n",
    "    cov = np.cov(X.T)\n",
    "    cov_inv = inv(cov)\n",
    "    cov_det = det(cov)\n",
    "    return {'u': u, 'cov': cov, 'cov_inv': cov_inv, 'cov_det': cov_det}\n",
    "\n",
    "def getGussianProb(u, cov, cov_inv, cov_det, x):\n",
    "    \"\"\"\n",
    "    计算正态分布概率\n",
    "    \"\"\"\n",
    "    y = np.dot(x - u, cov_inv)\n",
    "    y = np.dot(y, x - u)\n",
    "    y = np.exp(-0.5 * y)\n",
    "    const = 1 / (((3.1415 * 2) ** (len(x) / 2)) * (cov_det ** 0.5))\n",
    "    return y * const\n",
    "\n",
    "def mapConfidenceRadius(p, df=2):\n",
    "    \"\"\"\n",
    "    置信区间和半径的关系,\n",
    "    (x-u)'S**-1(x-u)=c**2，\n",
    "    服从chi-square分布，返回c**2\n",
    "    \"\"\"\n",
    "    rv = chi2(2)\n",
    "    return rv.ppf(p)\n",
    "\n",
    "def isInsideConf(x, u, cov, c2):\n",
    "    \"\"\"\n",
    "    计算是否在置信区间内\n",
    "    \"\"\"\n",
    "    cov_inv = inv(cov)\n",
    "    y = np.dot(x-u, cov)\n",
    "    y = np.dot(y, x-u)\n",
    "    re = 1 if y <= c2 else 0\n",
    "    return re\n",
    "\n",
    "def drawEllipse(s1, s2, c):\n",
    "    \"\"\"\n",
    "    计算中心点在原点且没有变形的椭圆的坐标，\n",
    "    s1; s2: 方差; c: 半径\n",
    "    \"\"\"\n",
    "    a = s1 * c\n",
    "    b = s2 * c\n",
    "    x1 = np.linspace(-a, a)\n",
    "    x2 = -b/a*np.sqrt(a**2 - x1**2)\n",
    "    x1_second = np.flipud(x1)\n",
    "    x2_second = np.flipud(-x2)\n",
    "    x1 = np.concatenate((x1, x1_second))\n",
    "    x2 = np.concatenate((x2, x2_second))\n",
    "    return x1, x2\n",
    "\n",
    "def drawEllipse2(u, cov, c):\n",
    "    \"\"\"\n",
    "    画中心点为u，变化为cov，半径为c的椭圆\n",
    "    \"\"\"\n",
    "    w, v = eig(cov)\n",
    "    x1, x2 = drawEllipse(s1=np.sqrt(w[0]), s2=np.sqrt(w[1]), c=c)\n",
    "    Y = np.array([x1, x2])\n",
    "    X = np.dot(v, Y).T + u\n",
    "    return X\n",
    "\n",
    "def drawScatterAndConf(data, ps=[0.99]):\n",
    "    \"\"\"\n",
    "    scatter plot & confidence interval\n",
    "    \"\"\"\n",
    "    params = getGussianParam(data[['x1', 'x2']].values)\n",
    "    plt.grid()\n",
    "    plt.scatter(data['x1'].values, data['x2'].values)\n",
    "    for p in ps:\n",
    "        c2 = mapConfidenceRadius(p)\n",
    "        X = drawEllipse2(params['u'], params['cov'], np.sqrt(c2))\n",
    "        plt.plot(X[:, 0], X[:, 1])\n",
    "    plt.show()"
   ]
  },
  {
   "cell_type": "code",
   "execution_count": 5,
   "id": "ae2592be-add4-4799-98f7-e4a612b09cd0",
   "metadata": {},
   "outputs": [
    {
     "data": {
      "text/plain": [
       "array([-1.89316243, -0.51540864])"
      ]
     },
     "execution_count": 5,
     "metadata": {},
     "output_type": "execute_result"
    }
   ],
   "source": [
    "rv = multivariate_normal([0.5, -0.2], [[2.0, 0.3], [0.3, 0.5]])\n",
    "data = np.array([rv.rvs() for i in range(100)])"
   ]
  },
  {
   "cell_type": "code",
   "execution_count": null,
   "id": "76fa42bf-c635-4e74-a715-0cec42aa089b",
   "metadata": {},
   "outputs": [],
   "source": []
  }
 ],
 "metadata": {
  "kernelspec": {
   "display_name": "Python 3 (ipykernel)",
   "language": "python",
   "name": "python3"
  },
  "language_info": {
   "codemirror_mode": {
    "name": "ipython",
    "version": 3
   },
   "file_extension": ".py",
   "mimetype": "text/x-python",
   "name": "python",
   "nbconvert_exporter": "python",
   "pygments_lexer": "ipython3",
   "version": "3.9.7"
  }
 },
 "nbformat": 4,
 "nbformat_minor": 5
}
